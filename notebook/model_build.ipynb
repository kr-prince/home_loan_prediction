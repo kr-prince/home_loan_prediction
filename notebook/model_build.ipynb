{
 "cells": [
  {
   "cell_type": "code",
   "execution_count": 1,
   "metadata": {},
   "outputs": [],
   "source": [
    "import pandas as pd\n",
    "from collections import defaultdict\n",
    "from sklearn.model_selection import train_test_split, StratifiedShuffleSplit, GridSearchCV\n",
    "from sklearn.preprocessing import StandardScaler\n",
    "from sklearn.ensemble import RandomForestClassifier\n",
    "from sklearn.metrics import accuracy_score, f1_score, classification_report\n",
    "from joblib import load, dump"
   ]
  },
  {
   "cell_type": "code",
   "execution_count": 2,
   "metadata": {},
   "outputs": [],
   "source": [
    "# Read data\n",
    "df_data = pd.read_csv('../data/train_data.csv')"
   ]
  },
  {
   "cell_type": "code",
   "execution_count": 3,
   "metadata": {},
   "outputs": [
    {
     "data": {
      "text/plain": [
       "Index(['Loan_ID', 'Gender', 'Married', 'Dependents', 'Education',\n",
       "       'Self_Employed', 'ApplicantIncome', 'CoapplicantIncome', 'LoanAmount',\n",
       "       'Loan_Amount_Term', 'Credit_History', 'Property_Area', 'Loan_Status'],\n",
       "      dtype='object')"
      ]
     },
     "execution_count": 3,
     "metadata": {},
     "output_type": "execute_result"
    }
   ],
   "source": [
    "df_data.columns"
   ]
  },
  {
   "cell_type": "code",
   "execution_count": 4,
   "metadata": {},
   "outputs": [],
   "source": [
    "# Drop Loan_ID\n",
    "df_data = df_data.drop(columns='Loan_ID')"
   ]
  },
  {
   "cell_type": "markdown",
   "metadata": {},
   "source": [
    "#### Model Building"
   ]
  },
  {
   "cell_type": "code",
   "execution_count": 5,
   "metadata": {},
   "outputs": [],
   "source": [
    "# Train-test split\n",
    "X_train, X_test, y_train, y_test = train_test_split(df_data.drop(columns='Loan_Status'),\n",
    "                                                    df_data['Loan_Status'],\n",
    "                                                    stratify=df_data['Loan_Status'],\n",
    "                                                    train_size=0.7, random_state=123) "
   ]
  },
  {
   "cell_type": "code",
   "execution_count": 6,
   "metadata": {},
   "outputs": [
    {
     "data": {
      "text/plain": [
       "((429, 11), (185, 11), (429,), (185,))"
      ]
     },
     "execution_count": 6,
     "metadata": {},
     "output_type": "execute_result"
    }
   ],
   "source": [
    "X_train.shape, X_test.shape, y_train.shape, y_test.shape"
   ]
  },
  {
   "cell_type": "code",
   "execution_count": 7,
   "metadata": {},
   "outputs": [
    {
     "data": {
      "text/html": [
       "<div>\n",
       "<style scoped>\n",
       "    .dataframe tbody tr th:only-of-type {\n",
       "        vertical-align: middle;\n",
       "    }\n",
       "\n",
       "    .dataframe tbody tr th {\n",
       "        vertical-align: top;\n",
       "    }\n",
       "\n",
       "    .dataframe thead th {\n",
       "        text-align: right;\n",
       "    }\n",
       "</style>\n",
       "<table border=\"1\" class=\"dataframe\">\n",
       "  <thead>\n",
       "    <tr style=\"text-align: right;\">\n",
       "      <th></th>\n",
       "      <th>Gender</th>\n",
       "      <th>Married</th>\n",
       "      <th>Dependents</th>\n",
       "      <th>Education</th>\n",
       "      <th>Self_Employed</th>\n",
       "      <th>ApplicantIncome</th>\n",
       "      <th>CoapplicantIncome</th>\n",
       "      <th>LoanAmount</th>\n",
       "      <th>Loan_Amount_Term</th>\n",
       "      <th>Credit_History</th>\n",
       "      <th>Property_Area</th>\n",
       "    </tr>\n",
       "  </thead>\n",
       "  <tbody>\n",
       "    <tr>\n",
       "      <th>433</th>\n",
       "      <td>Male</td>\n",
       "      <td>Yes</td>\n",
       "      <td>0</td>\n",
       "      <td>Graduate</td>\n",
       "      <td>No</td>\n",
       "      <td>2425</td>\n",
       "      <td>2340.0</td>\n",
       "      <td>143.0</td>\n",
       "      <td>360.0</td>\n",
       "      <td>1.0</td>\n",
       "      <td>Semiurban</td>\n",
       "    </tr>\n",
       "    <tr>\n",
       "      <th>69</th>\n",
       "      <td>Female</td>\n",
       "      <td>No</td>\n",
       "      <td>0</td>\n",
       "      <td>Graduate</td>\n",
       "      <td>No</td>\n",
       "      <td>4300</td>\n",
       "      <td>0.0</td>\n",
       "      <td>136.0</td>\n",
       "      <td>360.0</td>\n",
       "      <td>0.0</td>\n",
       "      <td>Semiurban</td>\n",
       "    </tr>\n",
       "    <tr>\n",
       "      <th>49</th>\n",
       "      <td>Female</td>\n",
       "      <td>No</td>\n",
       "      <td>0</td>\n",
       "      <td>Graduate</td>\n",
       "      <td>No</td>\n",
       "      <td>4000</td>\n",
       "      <td>2275.0</td>\n",
       "      <td>144.0</td>\n",
       "      <td>360.0</td>\n",
       "      <td>1.0</td>\n",
       "      <td>Semiurban</td>\n",
       "    </tr>\n",
       "  </tbody>\n",
       "</table>\n",
       "</div>"
      ],
      "text/plain": [
       "     Gender Married Dependents Education Self_Employed  ApplicantIncome  \\\n",
       "433    Male     Yes          0  Graduate            No             2425   \n",
       "69   Female      No          0  Graduate            No             4300   \n",
       "49   Female      No          0  Graduate            No             4000   \n",
       "\n",
       "     CoapplicantIncome  LoanAmount  Loan_Amount_Term  Credit_History  \\\n",
       "433             2340.0       143.0             360.0             1.0   \n",
       "69                 0.0       136.0             360.0             0.0   \n",
       "49              2275.0       144.0             360.0             1.0   \n",
       "\n",
       "    Property_Area  \n",
       "433     Semiurban  \n",
       "69      Semiurban  \n",
       "49      Semiurban  "
      ]
     },
     "execution_count": 7,
     "metadata": {},
     "output_type": "execute_result"
    }
   ],
   "source": [
    "X_train.head(3)"
   ]
  },
  {
   "cell_type": "code",
   "execution_count": 8,
   "metadata": {},
   "outputs": [
    {
     "data": {
      "text/html": [
       "<div>\n",
       "<style scoped>\n",
       "    .dataframe tbody tr th:only-of-type {\n",
       "        vertical-align: middle;\n",
       "    }\n",
       "\n",
       "    .dataframe tbody tr th {\n",
       "        vertical-align: top;\n",
       "    }\n",
       "\n",
       "    .dataframe thead th {\n",
       "        text-align: right;\n",
       "    }\n",
       "</style>\n",
       "<table border=\"1\" class=\"dataframe\">\n",
       "  <thead>\n",
       "    <tr style=\"text-align: right;\">\n",
       "      <th></th>\n",
       "      <th>ApplicantIncome</th>\n",
       "      <th>CoapplicantIncome</th>\n",
       "      <th>LoanAmount</th>\n",
       "      <th>Loan_Amount_Term</th>\n",
       "      <th>Credit_History</th>\n",
       "    </tr>\n",
       "  </thead>\n",
       "  <tbody>\n",
       "    <tr>\n",
       "      <th>count</th>\n",
       "      <td>429.000000</td>\n",
       "      <td>429.000000</td>\n",
       "      <td>412.000000</td>\n",
       "      <td>420.000000</td>\n",
       "      <td>395.000000</td>\n",
       "    </tr>\n",
       "    <tr>\n",
       "      <th>mean</th>\n",
       "      <td>5343.016317</td>\n",
       "      <td>1519.843357</td>\n",
       "      <td>146.550971</td>\n",
       "      <td>341.428571</td>\n",
       "      <td>0.827848</td>\n",
       "    </tr>\n",
       "    <tr>\n",
       "      <th>std</th>\n",
       "      <td>5614.656513</td>\n",
       "      <td>2323.436844</td>\n",
       "      <td>82.931654</td>\n",
       "      <td>65.307184</td>\n",
       "      <td>0.377991</td>\n",
       "    </tr>\n",
       "    <tr>\n",
       "      <th>min</th>\n",
       "      <td>150.000000</td>\n",
       "      <td>0.000000</td>\n",
       "      <td>9.000000</td>\n",
       "      <td>36.000000</td>\n",
       "      <td>0.000000</td>\n",
       "    </tr>\n",
       "    <tr>\n",
       "      <th>25%</th>\n",
       "      <td>2929.000000</td>\n",
       "      <td>0.000000</td>\n",
       "      <td>104.000000</td>\n",
       "      <td>360.000000</td>\n",
       "      <td>1.000000</td>\n",
       "    </tr>\n",
       "    <tr>\n",
       "      <th>50%</th>\n",
       "      <td>3859.000000</td>\n",
       "      <td>1260.000000</td>\n",
       "      <td>130.000000</td>\n",
       "      <td>360.000000</td>\n",
       "      <td>1.000000</td>\n",
       "    </tr>\n",
       "    <tr>\n",
       "      <th>75%</th>\n",
       "      <td>5780.000000</td>\n",
       "      <td>2253.000000</td>\n",
       "      <td>167.250000</td>\n",
       "      <td>360.000000</td>\n",
       "      <td>1.000000</td>\n",
       "    </tr>\n",
       "    <tr>\n",
       "      <th>max</th>\n",
       "      <td>63337.000000</td>\n",
       "      <td>33837.000000</td>\n",
       "      <td>700.000000</td>\n",
       "      <td>480.000000</td>\n",
       "      <td>1.000000</td>\n",
       "    </tr>\n",
       "  </tbody>\n",
       "</table>\n",
       "</div>"
      ],
      "text/plain": [
       "       ApplicantIncome  CoapplicantIncome  LoanAmount  Loan_Amount_Term  \\\n",
       "count       429.000000         429.000000  412.000000        420.000000   \n",
       "mean       5343.016317        1519.843357  146.550971        341.428571   \n",
       "std        5614.656513        2323.436844   82.931654         65.307184   \n",
       "min         150.000000           0.000000    9.000000         36.000000   \n",
       "25%        2929.000000           0.000000  104.000000        360.000000   \n",
       "50%        3859.000000        1260.000000  130.000000        360.000000   \n",
       "75%        5780.000000        2253.000000  167.250000        360.000000   \n",
       "max       63337.000000       33837.000000  700.000000        480.000000   \n",
       "\n",
       "       Credit_History  \n",
       "count      395.000000  \n",
       "mean         0.827848  \n",
       "std          0.377991  \n",
       "min          0.000000  \n",
       "25%          1.000000  \n",
       "50%          1.000000  \n",
       "75%          1.000000  \n",
       "max          1.000000  "
      ]
     },
     "execution_count": 8,
     "metadata": {},
     "output_type": "execute_result"
    }
   ],
   "source": [
    "X_train.describe()"
   ]
  },
  {
   "cell_type": "code",
   "execution_count": 9,
   "metadata": {},
   "outputs": [
    {
     "name": "stdout",
     "output_type": "stream",
     "text": [
      "Column: Gender\n",
      "Gender\n",
      "Male      345\n",
      "Female     74\n",
      "Name: count, dtype: int64\n",
      "==================================================\n",
      "Column: Married\n",
      "Married\n",
      "Yes    278\n",
      "No     149\n",
      "Name: count, dtype: int64\n",
      "==================================================\n",
      "Column: Dependents\n",
      "Dependents\n",
      "0     240\n",
      "1      76\n",
      "2      75\n",
      "3+     29\n",
      "Name: count, dtype: int64\n",
      "==================================================\n",
      "Column: Education\n",
      "Education\n",
      "Graduate        333\n",
      "Not Graduate     96\n",
      "Name: count, dtype: int64\n",
      "==================================================\n",
      "Column: Self_Employed\n",
      "Self_Employed\n",
      "No     345\n",
      "Yes     58\n",
      "Name: count, dtype: int64\n",
      "==================================================\n",
      "Column: Property_Area\n",
      "Property_Area\n",
      "Semiurban    166\n",
      "Urban        137\n",
      "Rural        126\n",
      "Name: count, dtype: int64\n",
      "==================================================\n"
     ]
    }
   ],
   "source": [
    "# Check categorical columns\n",
    "categorical_columns = ['Gender', 'Married', 'Dependents', 'Education',\n",
    "                       'Self_Employed', 'Property_Area']\n",
    "for column in categorical_columns:\n",
    "    print(f\"Column: {column}\")\n",
    "    print(X_train[column].value_counts())\n",
    "    print(\"=\"*50)"
   ]
  },
  {
   "cell_type": "code",
   "execution_count": 10,
   "metadata": {},
   "outputs": [],
   "source": [
    "# Create categorical to continuous maps\n",
    "categorical_continuous_map = defaultdict(lambda : -1)\n",
    "categorical_continuous_map.update({'Male': 1, 'Female': 0, 'Yes': 1, 'No': 0, '0': 0,\n",
    "                            '1': 1, '2': 2, '3+': 3, 'Graduate': 1, 'Not Graduate': 0,\n",
    "                            'Semiurban': 0, 'Urban': 1, 'Rural': 2})"
   ]
  },
  {
   "cell_type": "code",
   "execution_count": 11,
   "metadata": {},
   "outputs": [],
   "source": [
    "# Fill nan's and convert categorical to continuous\n",
    "X_train = X_train.fillna(-1)\n",
    "X_train = X_train.replace(categorical_continuous_map)\n",
    "X_test = X_test.fillna(-1)\n",
    "X_test = X_test.replace(categorical_continuous_map)"
   ]
  },
  {
   "cell_type": "code",
   "execution_count": 12,
   "metadata": {},
   "outputs": [],
   "source": [
    "# Continuous columns\n",
    "continuous_columns = ['ApplicantIncome', 'CoapplicantIncome', 'LoanAmount',\n",
    "                      'Loan_Amount_Term', 'Credit_History']"
   ]
  },
  {
   "cell_type": "code",
   "execution_count": 13,
   "metadata": {},
   "outputs": [],
   "source": [
    "scaler_model = StandardScaler()\n",
    "scaler_model = scaler_model.fit(X_train[continuous_columns])\n",
    "X_train[continuous_columns] = scaler_model.transform(X_train[continuous_columns])\n",
    "X_test[continuous_columns] = scaler_model.transform(X_test[continuous_columns])"
   ]
  },
  {
   "cell_type": "code",
   "execution_count": 14,
   "metadata": {},
   "outputs": [],
   "source": [
    "# Model building\n",
    "randomforest_model = RandomForestClassifier(random_state=123)\n",
    "params_map = {'n_estimators': [5, 10, 30, 50, 100, 200],\n",
    "              'criterion': ['gini', 'entropy'],\n",
    "              'max_depth': [2, 3, 5, 7, 10],\n",
    "              'class_weight': ['balanced', None]}\n",
    "ss_split = StratifiedShuffleSplit(n_splits=5, test_size=0.3, random_state=123)\n",
    "gridsearchcv = GridSearchCV(randomforest_model, param_grid=params_map,\n",
    "                            scoring='f1_weighted', n_jobs=-1, refit=True, cv=ss_split,\n",
    "                            return_train_score=True)"
   ]
  },
  {
   "cell_type": "code",
   "execution_count": 15,
   "metadata": {},
   "outputs": [
    {
     "name": "stdout",
     "output_type": "stream",
     "text": [
      "Mean fit time : 0.305s\n",
      "Mean test time : 0.026s\n",
      "Mean train score : 0.834\n",
      "Mean CV score : 0.734\n"
     ]
    }
   ],
   "source": [
    "# Model training\n",
    "gridsearchcv_result = gridsearchcv.fit(X_train, y_train).cv_results_\n",
    "print(\"Mean fit time : %.3fs\" % gridsearchcv_result['mean_fit_time'].mean())\n",
    "print(\"Mean test time : %.3fs\" % gridsearchcv_result['mean_score_time'].mean())\n",
    "print(\"Mean train score : %.3f\" % gridsearchcv_result['mean_train_score'].mean())\n",
    "print(\"Mean CV score : %.3f\" % gridsearchcv_result['mean_test_score'].mean())"
   ]
  },
  {
   "cell_type": "code",
   "execution_count": 16,
   "metadata": {},
   "outputs": [
    {
     "name": "stdout",
     "output_type": "stream",
     "text": [
      "Best Train Score : 0.822\n",
      "Best Test Score  : 0.745\n",
      "Best params :  {'class_weight': None, 'criterion': 'gini', 'max_depth': 5, 'n_estimators': 30}\n"
     ]
    }
   ],
   "source": [
    "# Get the train score on the best estimator\n",
    "print(\"Best Train Score : %.3f\" % f1_score(y_train, gridsearchcv.predict(X_train), average='weighted'))\n",
    "# Get the test score on the best estimator\n",
    "y_prediction = gridsearchcv.predict(X_test)\n",
    "print(\"Best Test Score  : %.3f\" % f1_score(y_test, y_prediction, average='weighted'))\n",
    "print(\"Best params : \", gridsearchcv.best_params_)"
   ]
  },
  {
   "cell_type": "code",
   "execution_count": 17,
   "metadata": {},
   "outputs": [
    {
     "name": "stdout",
     "output_type": "stream",
     "text": [
      "              precision    recall  f1-score   support\n",
      "\n",
      "           N       0.95      0.33      0.49        58\n",
      "           Y       0.76      0.99      0.86       127\n",
      "\n",
      "    accuracy                           0.78       185\n",
      "   macro avg       0.86      0.66      0.68       185\n",
      "weighted avg       0.82      0.78      0.75       185\n",
      "\n"
     ]
    }
   ],
   "source": [
    "# Classification report\n",
    "print(classification_report(y_true=y_test, y_pred=y_prediction))"
   ]
  },
  {
   "cell_type": "code",
   "execution_count": 18,
   "metadata": {},
   "outputs": [
    {
     "data": {
      "text/plain": [
       "['../models/categorical_continuous_map.dict']"
      ]
     },
     "execution_count": 18,
     "metadata": {},
     "output_type": "execute_result"
    }
   ],
   "source": [
    "# Save models\n",
    "dump(gridsearchcv.best_estimator_, '../models/randomforest_model.model')\n",
    "dump(scaler_model, '../models/scaler_model.model')\n",
    "dump({'Male': 1, 'Female': 0, 'Yes': 1, 'No': 0, '0': 0,\n",
    "      '1': 1, '2': 2, '3+': 3, 'Graduate': 1, 'Not Graduate': 0,\n",
    "      'Semiurban': 0, 'Urban': 1, 'Rural': 2}, '../models/categorical_continuous_map.dict')"
   ]
  },
  {
   "cell_type": "code",
   "execution_count": null,
   "metadata": {},
   "outputs": [],
   "source": []
  },
  {
   "cell_type": "markdown",
   "metadata": {},
   "source": [
    "#### Model Testing"
   ]
  },
  {
   "cell_type": "code",
   "execution_count": 5,
   "metadata": {},
   "outputs": [
    {
     "data": {
      "text/html": [
       "<div>\n",
       "<style scoped>\n",
       "    .dataframe tbody tr th:only-of-type {\n",
       "        vertical-align: middle;\n",
       "    }\n",
       "\n",
       "    .dataframe tbody tr th {\n",
       "        vertical-align: top;\n",
       "    }\n",
       "\n",
       "    .dataframe thead th {\n",
       "        text-align: right;\n",
       "    }\n",
       "</style>\n",
       "<table border=\"1\" class=\"dataframe\">\n",
       "  <thead>\n",
       "    <tr style=\"text-align: right;\">\n",
       "      <th></th>\n",
       "      <th>Gender</th>\n",
       "      <th>Married</th>\n",
       "      <th>Dependents</th>\n",
       "      <th>Education</th>\n",
       "      <th>Self_Employed</th>\n",
       "      <th>ApplicantIncome</th>\n",
       "      <th>CoapplicantIncome</th>\n",
       "      <th>LoanAmount</th>\n",
       "      <th>Loan_Amount_Term</th>\n",
       "      <th>Credit_History</th>\n",
       "      <th>Property_Area</th>\n",
       "      <th>Loan_Status</th>\n",
       "    </tr>\n",
       "  </thead>\n",
       "  <tbody>\n",
       "    <tr>\n",
       "      <th>0</th>\n",
       "      <td>Male</td>\n",
       "      <td>No</td>\n",
       "      <td>0</td>\n",
       "      <td>Graduate</td>\n",
       "      <td>No</td>\n",
       "      <td>5849</td>\n",
       "      <td>0.0</td>\n",
       "      <td>NaN</td>\n",
       "      <td>360.0</td>\n",
       "      <td>1.0</td>\n",
       "      <td>Urban</td>\n",
       "      <td>Y</td>\n",
       "    </tr>\n",
       "    <tr>\n",
       "      <th>1</th>\n",
       "      <td>Male</td>\n",
       "      <td>Yes</td>\n",
       "      <td>1</td>\n",
       "      <td>Graduate</td>\n",
       "      <td>No</td>\n",
       "      <td>4583</td>\n",
       "      <td>1508.0</td>\n",
       "      <td>128.0</td>\n",
       "      <td>360.0</td>\n",
       "      <td>1.0</td>\n",
       "      <td>Rural</td>\n",
       "      <td>N</td>\n",
       "    </tr>\n",
       "  </tbody>\n",
       "</table>\n",
       "</div>"
      ],
      "text/plain": [
       "  Gender Married Dependents Education Self_Employed  ApplicantIncome  \\\n",
       "0   Male      No          0  Graduate            No             5849   \n",
       "1   Male     Yes          1  Graduate            No             4583   \n",
       "\n",
       "   CoapplicantIncome  LoanAmount  Loan_Amount_Term  Credit_History  \\\n",
       "0                0.0         NaN             360.0             1.0   \n",
       "1             1508.0       128.0             360.0             1.0   \n",
       "\n",
       "  Property_Area Loan_Status  \n",
       "0         Urban           Y  \n",
       "1         Rural           N  "
      ]
     },
     "execution_count": 5,
     "metadata": {},
     "output_type": "execute_result"
    }
   ],
   "source": [
    "df_data.head(2)"
   ]
  },
  {
   "cell_type": "code",
   "execution_count": 6,
   "metadata": {},
   "outputs": [],
   "source": [
    "randomforest_model = load('../models/randomforest_model.model')\n",
    "scaler_model = load('../models/scaler_model.model')\n",
    "categorical_continuous_map = defaultdict(lambda x: -1)\n",
    "categorical_continuous_map.update(load('../models/categorical_continuous_map.dict'))"
   ]
  },
  {
   "cell_type": "code",
   "execution_count": 7,
   "metadata": {},
   "outputs": [],
   "source": [
    "df_data_sample = df_data.sample(10, random_state=123)"
   ]
  },
  {
   "cell_type": "code",
   "execution_count": 8,
   "metadata": {},
   "outputs": [],
   "source": [
    "categorical_columns = ['Gender', 'Married', 'Dependents', 'Education',\n",
    "                       'Self_Employed', 'Property_Area']\n",
    "continuous_columns = ['ApplicantIncome', 'CoapplicantIncome', 'LoanAmount',\n",
    "                      'Loan_Amount_Term', 'Credit_History']"
   ]
  },
  {
   "cell_type": "code",
   "execution_count": 9,
   "metadata": {},
   "outputs": [],
   "source": [
    "X_test = df_data_sample.drop(columns='Loan_Status')\n",
    "y_test = df_data_sample['Loan_Status']\n",
    "X_test = X_test.fillna(-1)\n",
    "X_test = X_test.replace(categorical_continuous_map)\n",
    "X_test[continuous_columns] = scaler_model.transform(X_test[continuous_columns])"
   ]
  },
  {
   "cell_type": "code",
   "execution_count": 10,
   "metadata": {},
   "outputs": [],
   "source": [
    "y_prediction = randomforest_model.predict(X_test)"
   ]
  },
  {
   "cell_type": "code",
   "execution_count": 11,
   "metadata": {},
   "outputs": [
    {
     "data": {
      "text/plain": [
       "0.8"
      ]
     },
     "execution_count": 11,
     "metadata": {},
     "output_type": "execute_result"
    }
   ],
   "source": [
    "f1_score(y_test, y_prediction, average='weighted')"
   ]
  },
  {
   "cell_type": "code",
   "execution_count": 12,
   "metadata": {},
   "outputs": [
    {
     "name": "stdout",
     "output_type": "stream",
     "text": [
      "              precision    recall  f1-score   support\n",
      "\n",
      "           N       0.50      0.50      0.50         2\n",
      "           Y       0.88      0.88      0.88         8\n",
      "\n",
      "    accuracy                           0.80        10\n",
      "   macro avg       0.69      0.69      0.69        10\n",
      "weighted avg       0.80      0.80      0.80        10\n",
      "\n"
     ]
    }
   ],
   "source": [
    "print(classification_report(y_true=y_test, y_pred=y_prediction))"
   ]
  }
 ],
 "metadata": {
  "kernelspec": {
   "display_name": "base",
   "language": "python",
   "name": "python3"
  },
  "language_info": {
   "codemirror_mode": {
    "name": "ipython",
    "version": 3
   },
   "file_extension": ".py",
   "mimetype": "text/x-python",
   "name": "python",
   "nbconvert_exporter": "python",
   "pygments_lexer": "ipython3",
   "version": "3.8.19"
  }
 },
 "nbformat": 4,
 "nbformat_minor": 2
}
